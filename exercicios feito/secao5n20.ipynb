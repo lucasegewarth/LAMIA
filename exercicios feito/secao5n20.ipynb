{
 "cells": [
  {
   "cell_type": "markdown",
   "id": "9f86b50b-3f79-4e23-9742-cecdf7f9b552",
   "metadata": {},
   "source": [
    "Está inportanto a biblioteca numpy ultilizando NP como conveção"
   ]
  },
  {
   "cell_type": "code",
   "execution_count": 1,
   "id": "f4baf798-6366-4f51-9e19-dacf98f3a591",
   "metadata": {},
   "outputs": [],
   "source": [
    "import numpy as np"
   ]
  },
  {
   "cell_type": "markdown",
   "id": "acf41ca5-14f4-4f74-adec-9c4cada04637",
   "metadata": {},
   "source": [
    "Definindo uma lista"
   ]
  },
  {
   "cell_type": "code",
   "execution_count": 2,
   "id": "35b07db5-b38f-4797-b340-b24970046248",
   "metadata": {},
   "outputs": [],
   "source": [
    "minha_lista = [1, 2, 3]"
   ]
  },
  {
   "cell_type": "code",
   "execution_count": 3,
   "id": "152512cc-4fab-4c89-b178-9d55bcc8344b",
   "metadata": {},
   "outputs": [
    {
     "data": {
      "text/plain": [
       "[1, 2, 3]"
      ]
     },
     "execution_count": 3,
     "metadata": {},
     "output_type": "execute_result"
    }
   ],
   "source": [
    "minha_lista"
   ]
  },
  {
   "cell_type": "markdown",
   "id": "119a6c94-d41b-4e8e-8cc0-78d34043b38c",
   "metadata": {},
   "source": [
    "Passando a lista como parametro do metodo array"
   ]
  },
  {
   "cell_type": "code",
   "execution_count": 4,
   "id": "f38268f5-4248-461b-ab14-6b3131cc7df0",
   "metadata": {},
   "outputs": [
    {
     "data": {
      "text/plain": [
       "array([1, 2, 3])"
      ]
     },
     "execution_count": 4,
     "metadata": {},
     "output_type": "execute_result"
    }
   ],
   "source": [
    "np.array(minha_lista)"
   ]
  },
  {
   "cell_type": "markdown",
   "id": "29636bd3-19ff-4526-a0a6-c735fecb7aeb",
   "metadata": {},
   "source": [
    "Array de duas dimensões sendo uma lista de lista "
   ]
  },
  {
   "cell_type": "code",
   "execution_count": 5,
   "id": "b52385f6-1d33-4bac-9182-4923c5545836",
   "metadata": {},
   "outputs": [],
   "source": [
    "minha_matriz = [[1, 2, 3], [4, 5, 6], [7, 8, 9]]"
   ]
  },
  {
   "cell_type": "code",
   "execution_count": 6,
   "id": "b63336ef-0d6a-46d7-b631-10484ed83350",
   "metadata": {},
   "outputs": [
    {
     "data": {
      "text/plain": [
       "array([[1, 2, 3],\n",
       "       [4, 5, 6],\n",
       "       [7, 8, 9]])"
      ]
     },
     "execution_count": 6,
     "metadata": {},
     "output_type": "execute_result"
    }
   ],
   "source": [
    "np.array(minha_matriz)"
   ]
  },
  {
   "cell_type": "markdown",
   "id": "55e13cba-59bd-4729-9858-159f49220980",
   "metadata": {},
   "source": [
    "Metodo arange do numpy. Criar uma lista de numeros sendo 0 o parametro de  inicio e 10 o parametro de final e 10 não estara incluso tendo um terceiro parametro não obrigatorio sendo ele ultilizado para definir o intervalo entre os valores a ser definido e se não definido será 1\n",
    "Interesante de se ultilizar para criar sequencia de numeros "
   ]
  },
  {
   "cell_type": "code",
   "execution_count": 7,
   "id": "5292bd43-8c96-4dae-9b61-85ee874d0a1d",
   "metadata": {},
   "outputs": [
    {
     "data": {
      "text/plain": [
       "array([0, 1, 2, 3, 4, 5, 6, 7, 8, 9])"
      ]
     },
     "execution_count": 7,
     "metadata": {},
     "output_type": "execute_result"
    }
   ],
   "source": [
    "np.arange(0, 10)"
   ]
  },
  {
   "cell_type": "code",
   "execution_count": 8,
   "id": "82d621f9-9a8f-4316-89ff-571ab13daaae",
   "metadata": {},
   "outputs": [
    {
     "data": {
      "text/plain": [
       "array([0, 2, 4, 6, 8])"
      ]
     },
     "execution_count": 8,
     "metadata": {},
     "output_type": "execute_result"
    }
   ],
   "source": [
    "np.arange(0, 10, 2)"
   ]
  },
  {
   "cell_type": "markdown",
   "id": "b850c27a-7057-4e23-b274-9b66da4eaea7",
   "metadata": {},
   "source": [
    "Para criar matriz só de zeros"
   ]
  },
  {
   "cell_type": "code",
   "execution_count": 9,
   "id": "8e509233-0c9c-4f71-ab92-8ac2564b32e2",
   "metadata": {},
   "outputs": [
    {
     "data": {
      "text/plain": [
       "array([0., 0., 0.])"
      ]
     },
     "execution_count": 9,
     "metadata": {},
     "output_type": "execute_result"
    }
   ],
   "source": [
    "np.zeros(3)"
   ]
  },
  {
   "cell_type": "markdown",
   "id": "0e30e9d1-7dc0-4f9f-9ace-8278efd65d72",
   "metadata": {},
   "source": [
    "todos os metodos podem ser asociados a alguma variavel "
   ]
  },
  {
   "cell_type": "code",
   "execution_count": 10,
   "id": "50c0ce53-1122-432d-a3f8-b31d9853c5d7",
   "metadata": {},
   "outputs": [],
   "source": [
    "arr = np.zeros(3)"
   ]
  },
  {
   "cell_type": "code",
   "execution_count": 11,
   "id": "4faab53a-f2d5-41bd-badb-1b1ad625174a",
   "metadata": {},
   "outputs": [
    {
     "data": {
      "text/plain": [
       "array([0., 0., 0.])"
      ]
     },
     "execution_count": 11,
     "metadata": {},
     "output_type": "execute_result"
    }
   ],
   "source": [
    "arr"
   ]
  },
  {
   "cell_type": "markdown",
   "id": "3d943343-93c3-4474-a14c-8b82762e9dff",
   "metadata": {},
   "source": [
    "Passo uma tupla de 5 por 5 toda zerada"
   ]
  },
  {
   "cell_type": "code",
   "execution_count": 12,
   "id": "32d7712e-0711-4783-a907-efd4424cbe37",
   "metadata": {},
   "outputs": [],
   "source": [
    "arr = np.zeros((5, 5))"
   ]
  },
  {
   "cell_type": "code",
   "execution_count": 13,
   "id": "7793603b-297c-4762-8a75-4b07a7b3b344",
   "metadata": {},
   "outputs": [
    {
     "data": {
      "text/plain": [
       "array([[0., 0., 0., 0., 0.],\n",
       "       [0., 0., 0., 0., 0.],\n",
       "       [0., 0., 0., 0., 0.],\n",
       "       [0., 0., 0., 0., 0.],\n",
       "       [0., 0., 0., 0., 0.]])"
      ]
     },
     "execution_count": 13,
     "metadata": {},
     "output_type": "execute_result"
    }
   ],
   "source": [
    "arr"
   ]
  },
  {
   "cell_type": "markdown",
   "id": "77943308-8530-419c-ad3b-fdab95d41e0b",
   "metadata": {},
   "source": [
    "Tupla só de 1 3 por 3"
   ]
  },
  {
   "cell_type": "code",
   "execution_count": 14,
   "id": "fc0fed2d-a8f0-45db-9a62-bce9bfae135d",
   "metadata": {},
   "outputs": [
    {
     "data": {
      "text/plain": [
       "array([[1., 1., 1.],\n",
       "       [1., 1., 1.],\n",
       "       [1., 1., 1.]])"
      ]
     },
     "execution_count": 14,
     "metadata": {},
     "output_type": "execute_result"
    }
   ],
   "source": [
    "np.ones((3, 3))"
   ]
  },
  {
   "cell_type": "markdown",
   "id": "7c7cbe1a-4314-43c6-8109-936fc41d37cc",
   "metadata": {},
   "source": [
    "Para gerar uma matriz indentidade"
   ]
  },
  {
   "cell_type": "code",
   "execution_count": 15,
   "id": "5d26a388-8dbb-43e7-a3ae-e565657c233c",
   "metadata": {},
   "outputs": [
    {
     "data": {
      "text/plain": [
       "array([[1., 0., 0., 0.],\n",
       "       [0., 1., 0., 0.],\n",
       "       [0., 0., 1., 0.],\n",
       "       [0., 0., 0., 1.]])"
      ]
     },
     "execution_count": 15,
     "metadata": {},
     "output_type": "execute_result"
    }
   ],
   "source": [
    "np.eye(4)"
   ]
  },
  {
   "cell_type": "markdown",
   "id": "8f95679d-c31f-4e90-99d9-3fe8c3a61541",
   "metadata": {},
   "source": [
    "lisnspace só muda o terceiro parametro onde ele define a quantidade de numeros que você quer ver"
   ]
  },
  {
   "cell_type": "code",
   "execution_count": 16,
   "id": "29d230fa-443b-4867-851c-2ae3dbc84a19",
   "metadata": {},
   "outputs": [
    {
     "data": {
      "text/plain": [
       "array([ 0., 10.])"
      ]
     },
     "execution_count": 16,
     "metadata": {},
     "output_type": "execute_result"
    }
   ],
   "source": [
    "np.linspace(0, 10, 2)"
   ]
  },
  {
   "cell_type": "code",
   "execution_count": 17,
   "id": "5ed4a73c-a927-4763-8391-fac75b06eba0",
   "metadata": {},
   "outputs": [
    {
     "data": {
      "text/plain": [
       "array([ 0.,  5., 10.])"
      ]
     },
     "execution_count": 17,
     "metadata": {},
     "output_type": "execute_result"
    }
   ],
   "source": [
    "np.linspace(0, 10, 3)"
   ]
  },
  {
   "cell_type": "markdown",
   "id": "2ec49cc6-2b68-40f3-9486-791dcbcb9c8b",
   "metadata": {},
   "source": [
    "sub biblioteca chamada random com metodo rand numero aletorios de 0 a 1 com distibuição uniforme tendo eles a mesma probabilidade"
   ]
  },
  {
   "cell_type": "code",
   "execution_count": 18,
   "id": "fc2b51af-0cf9-46f3-ae46-4f44c1fd29d3",
   "metadata": {},
   "outputs": [
    {
     "data": {
      "text/plain": [
       "array([0.51285162, 0.34359237, 0.56791711, 0.37358008, 0.28055525])"
      ]
     },
     "execution_count": 18,
     "metadata": {},
     "output_type": "execute_result"
    }
   ],
   "source": [
    "np.random.rand(5)"
   ]
  },
  {
   "cell_type": "code",
   "execution_count": 19,
   "id": "7e9781fa-9451-4fbc-b0dd-2a42b6c71258",
   "metadata": {},
   "outputs": [
    {
     "data": {
      "text/plain": [
       "array([24.48401254, 76.40783363, 16.63413655,  4.2184167 , 91.95897279])"
      ]
     },
     "execution_count": 19,
     "metadata": {},
     "output_type": "execute_result"
    }
   ],
   "source": [
    "np.random.rand(5) * 100"
   ]
  },
  {
   "cell_type": "markdown",
   "id": "43703ff8-00bf-474a-8af0-3a9460d7d4a7",
   "metadata": {},
   "source": [
    "gerar matriz com 3 dimensões com o rand"
   ]
  },
  {
   "cell_type": "code",
   "execution_count": 20,
   "id": "ebc2c47e-8a25-442c-8841-ea72afcaebf1",
   "metadata": {},
   "outputs": [
    {
     "data": {
      "text/plain": [
       "array([[[0.50389351, 0.08566857, 0.06111692],\n",
       "        [0.80094094, 0.39635585, 0.11464052],\n",
       "        [0.80326399, 0.66879701, 0.27144857],\n",
       "        [0.19472693, 0.56406422, 0.7864641 ]],\n",
       "\n",
       "       [[0.64975359, 0.70033616, 0.95649835],\n",
       "        [0.2126999 , 0.71733732, 0.832656  ],\n",
       "        [0.70836148, 0.57550088, 0.83061775],\n",
       "        [0.54323218, 0.12740726, 0.35259312]],\n",
       "\n",
       "       [[0.956271  , 0.98152372, 0.0644557 ],\n",
       "        [0.03006818, 0.94216903, 0.87780882],\n",
       "        [0.3426931 , 0.42278721, 0.48325226],\n",
       "        [0.87793448, 0.76435913, 0.92933342]],\n",
       "\n",
       "       [[0.53381365, 0.05583828, 0.61035542],\n",
       "        [0.31947479, 0.39931384, 0.14591601],\n",
       "        [0.06315986, 0.94771469, 0.78981623],\n",
       "        [0.56337105, 0.89253725, 0.79525473]],\n",
       "\n",
       "       [[0.79165749, 0.41610864, 0.22404973],\n",
       "        [0.81326206, 0.97976306, 0.67245608],\n",
       "        [0.07091561, 0.42428811, 0.54684185],\n",
       "        [0.75190015, 0.77040039, 0.44274259]]])"
      ]
     },
     "execution_count": 20,
     "metadata": {},
     "output_type": "execute_result"
    }
   ],
   "source": [
    "np.random.rand(5, 4, 3)"
   ]
  },
  {
   "cell_type": "markdown",
   "id": "66984888-668b-46f3-a000-38025cfef9b8",
   "metadata": {},
   "source": [
    "randn numero aleatorios tirados de uma distribuição normal com media 0 e desvio padrão 1"
   ]
  },
  {
   "cell_type": "code",
   "execution_count": 21,
   "id": "c37c650c-992b-4122-ba51-598d91a8b18c",
   "metadata": {},
   "outputs": [
    {
     "data": {
      "text/plain": [
       "array([-1.51791348, -0.53347414,  0.51047242,  1.14087917])"
      ]
     },
     "execution_count": 21,
     "metadata": {},
     "output_type": "execute_result"
    }
   ],
   "source": [
    "np.random.randn(4)"
   ]
  },
  {
   "cell_type": "markdown",
   "id": "8af8ff14-beac-4168-8924-9feb7efda3da",
   "metadata": {},
   "source": [
    "randint numero inteiros detre um intervalo sendo o segundo parametro não incluso "
   ]
  },
  {
   "cell_type": "code",
   "execution_count": 22,
   "id": "5b35b429-e8b4-40c1-81a2-ee79252b3fc8",
   "metadata": {},
   "outputs": [
    {
     "data": {
      "text/plain": [
       "array([91, 84, 42, 38,  2, 44, 82, 84,  4, 15])"
      ]
     },
     "execution_count": 22,
     "metadata": {},
     "output_type": "execute_result"
    }
   ],
   "source": [
    "np.random.randint(0, 100, 10)"
   ]
  },
  {
   "cell_type": "code",
   "execution_count": 23,
   "id": "76aa9a50-18bc-41d3-8150-52673944dbc8",
   "metadata": {},
   "outputs": [
    {
     "data": {
      "text/plain": [
       "array([62.34165418, 63.70383933, 18.27858909, 98.44276621, 17.56505948])"
      ]
     },
     "execution_count": 23,
     "metadata": {},
     "output_type": "execute_result"
    }
   ],
   "source": [
    "np.random.rand(5) * 100"
   ]
  },
  {
   "cell_type": "markdown",
   "id": "e4b0b926-9506-45c0-9c17-4a91bb4cd639",
   "metadata": {},
   "source": [
    "round numero de casas decimais "
   ]
  },
  {
   "cell_type": "code",
   "execution_count": 24,
   "id": "2d4c0e98-7de3-4926-9e8b-c40d8a0905f6",
   "metadata": {},
   "outputs": [
    {
     "data": {
      "text/plain": [
       "array([1., 1., 0., 1., 0.])"
      ]
     },
     "execution_count": 24,
     "metadata": {},
     "output_type": "execute_result"
    }
   ],
   "source": [
    "np.round(np.random.rand(5), 0)"
   ]
  },
  {
   "cell_type": "code",
   "execution_count": 25,
   "id": "3c70e200-17b6-4afc-b4fb-34f1ef62cbb2",
   "metadata": {},
   "outputs": [
    {
     "data": {
      "text/plain": [
       "array([51., 45., 61., 52., 61.])"
      ]
     },
     "execution_count": 25,
     "metadata": {},
     "output_type": "execute_result"
    }
   ],
   "source": [
    "np.round(np.random.rand(5) * 100, 0)"
   ]
  },
  {
   "cell_type": "code",
   "execution_count": 26,
   "id": "2a77be2f-1709-440a-8f6a-c0767f505b33",
   "metadata": {},
   "outputs": [],
   "source": [
    "arr = np.random.rand(25)"
   ]
  },
  {
   "cell_type": "code",
   "execution_count": 27,
   "id": "02373547-7727-47d9-991f-864d77d70a6b",
   "metadata": {},
   "outputs": [
    {
     "data": {
      "text/plain": [
       "array([0.7572339 , 0.42291509, 0.34994568, 0.76127813, 0.91109736,\n",
       "       0.65867046, 0.24888504, 0.32420097, 0.28391346, 0.30924698,\n",
       "       0.81480748, 0.74020187, 0.36243941, 0.5507282 , 0.99652766,\n",
       "       0.73424068, 0.03576145, 0.33849414, 0.25215894, 0.06979243,\n",
       "       0.82216241, 0.0485474 , 0.52002303, 0.13945079, 0.52733743])"
      ]
     },
     "execution_count": 27,
     "metadata": {},
     "output_type": "execute_result"
    }
   ],
   "source": [
    "arr"
   ]
  },
  {
   "cell_type": "markdown",
   "id": "0266f006-54d7-4271-a4c7-262634eaab65",
   "metadata": {},
   "source": [
    "reshape muda o formato como exemplo ele muda um vetor de tamanho 25 para uma matriz de 5 por 5"
   ]
  },
  {
   "cell_type": "code",
   "execution_count": 28,
   "id": "d170f99d-66b6-44c4-88bf-8b32e6dbf4a4",
   "metadata": {},
   "outputs": [
    {
     "data": {
      "text/plain": [
       "array([[0.7572339 , 0.42291509, 0.34994568, 0.76127813, 0.91109736],\n",
       "       [0.65867046, 0.24888504, 0.32420097, 0.28391346, 0.30924698],\n",
       "       [0.81480748, 0.74020187, 0.36243941, 0.5507282 , 0.99652766],\n",
       "       [0.73424068, 0.03576145, 0.33849414, 0.25215894, 0.06979243],\n",
       "       [0.82216241, 0.0485474 , 0.52002303, 0.13945079, 0.52733743]])"
      ]
     },
     "execution_count": 28,
     "metadata": {},
     "output_type": "execute_result"
    }
   ],
   "source": [
    "arr.reshape((5, 5))"
   ]
  },
  {
   "cell_type": "code",
   "execution_count": 29,
   "id": "91429c3f-1e64-4215-99ae-8edc2ef352af",
   "metadata": {},
   "outputs": [],
   "source": [
    "arr = arr.reshape((5, 5))"
   ]
  },
  {
   "cell_type": "code",
   "execution_count": 30,
   "id": "8dcd4318-b932-463c-a1e7-271ddf507ec7",
   "metadata": {},
   "outputs": [
    {
     "data": {
      "text/plain": [
       "array([[0.7572339 , 0.42291509, 0.34994568, 0.76127813, 0.91109736],\n",
       "       [0.65867046, 0.24888504, 0.32420097, 0.28391346, 0.30924698],\n",
       "       [0.81480748, 0.74020187, 0.36243941, 0.5507282 , 0.99652766],\n",
       "       [0.73424068, 0.03576145, 0.33849414, 0.25215894, 0.06979243],\n",
       "       [0.82216241, 0.0485474 , 0.52002303, 0.13945079, 0.52733743]])"
      ]
     },
     "execution_count": 30,
     "metadata": {},
     "output_type": "execute_result"
    }
   ],
   "source": [
    "arr"
   ]
  },
  {
   "cell_type": "markdown",
   "id": "f57ff79d-5a57-4396-98f6-50e88e4c5c10",
   "metadata": {},
   "source": [
    "parametro \"shape\" é ultilizado para verificar o tamanho do vetor ou matriz "
   ]
  },
  {
   "cell_type": "code",
   "execution_count": 31,
   "id": "7bf10070-e631-4445-9ff7-ff60164fe647",
   "metadata": {},
   "outputs": [
    {
     "data": {
      "text/plain": [
       "(5, 5)"
      ]
     },
     "execution_count": 31,
     "metadata": {},
     "output_type": "execute_result"
    }
   ],
   "source": [
    "arr.shape"
   ]
  },
  {
   "cell_type": "markdown",
   "id": "be8b3bf6-2386-468d-891b-947be9c1218e",
   "metadata": {},
   "source": [
    "metodo \"max\" é para ver o maior valor"
   ]
  },
  {
   "cell_type": "code",
   "execution_count": 32,
   "id": "0176fd3f-539f-442c-9934-874f177c910f",
   "metadata": {},
   "outputs": [
    {
     "data": {
      "text/plain": [
       "0.9965276597783512"
      ]
     },
     "execution_count": 32,
     "metadata": {},
     "output_type": "execute_result"
    }
   ],
   "source": [
    "arr.max()"
   ]
  },
  {
   "cell_type": "markdown",
   "id": "147d9be5-1018-4849-908f-d0aef43b959e",
   "metadata": {},
   "source": [
    "metodo 'min\" encontrar menos valor"
   ]
  },
  {
   "cell_type": "code",
   "execution_count": 33,
   "id": "b0324fef-65f6-4ab8-9fc6-91fa79216b97",
   "metadata": {},
   "outputs": [
    {
     "data": {
      "text/plain": [
       "0.03576144749640364"
      ]
     },
     "execution_count": 33,
     "metadata": {},
     "output_type": "execute_result"
    }
   ],
   "source": [
    "arr.min()"
   ]
  },
  {
   "cell_type": "markdown",
   "id": "9970a2c7-4cbf-4593-8820-a20d1eab46ea",
   "metadata": {},
   "source": [
    "\"argmax\" o indice que maior valor se encontra"
   ]
  },
  {
   "cell_type": "code",
   "execution_count": 34,
   "id": "993ab7a3-faec-4a94-954d-87ead7a8d241",
   "metadata": {},
   "outputs": [
    {
     "data": {
      "text/plain": [
       "14"
      ]
     },
     "execution_count": 34,
     "metadata": {},
     "output_type": "execute_result"
    }
   ],
   "source": [
    "arr.argmax()"
   ]
  },
  {
   "cell_type": "markdown",
   "id": "7b649669-e824-4c86-b972-c715bc1ae8fb",
   "metadata": {},
   "source": [
    "\"argmin\" o indice que menos valor se encontra"
   ]
  },
  {
   "cell_type": "code",
   "execution_count": 35,
   "id": "ee7c370a-1ff1-46cb-9cfe-67a9e1c6eb7e",
   "metadata": {},
   "outputs": [
    {
     "data": {
      "text/plain": [
       "16"
      ]
     },
     "execution_count": 35,
     "metadata": {},
     "output_type": "execute_result"
    }
   ],
   "source": [
    "arr.argmin()"
   ]
  }
 ],
 "metadata": {
  "kernelspec": {
   "display_name": "Python 3 (ipykernel)",
   "language": "python",
   "name": "python3"
  },
  "language_info": {
   "codemirror_mode": {
    "name": "ipython",
    "version": 3
   },
   "file_extension": ".py",
   "mimetype": "text/x-python",
   "name": "python",
   "nbconvert_exporter": "python",
   "pygments_lexer": "ipython3",
   "version": "3.12.1"
  }
 },
 "nbformat": 4,
 "nbformat_minor": 5
}
