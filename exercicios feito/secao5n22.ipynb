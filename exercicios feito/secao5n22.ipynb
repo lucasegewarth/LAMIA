{
 "cells": [
  {
   "cell_type": "markdown",
   "id": "1f0563d4-3e67-40b9-80a2-cc44b63dbf34",
   "metadata": {},
   "source": [
    "Operações com Numpy Arrays\n",
    "Nessa video aula basicamente mostra as funções do numpy como soma, subtração, divisão, assim por diante indicando um link no notebook com todos tipos de funções possiveis"
   ]
  },
  {
   "cell_type": "code",
   "execution_count": 1,
   "id": "c68d41cc-8865-42a9-a667-605c5d8f0fe5",
   "metadata": {},
   "outputs": [],
   "source": [
    "import numpy as np"
   ]
  },
  {
   "cell_type": "code",
   "execution_count": 2,
   "id": "da583acc-cd58-44c5-9652-8256b7650628",
   "metadata": {},
   "outputs": [],
   "source": [
    "arr = np.arange(0, 16)"
   ]
  },
  {
   "cell_type": "code",
   "execution_count": 3,
   "id": "33a55b4c-f8bf-468f-a21d-4230f9993f23",
   "metadata": {},
   "outputs": [
    {
     "data": {
      "text/plain": [
       "array([ 0,  1,  2,  3,  4,  5,  6,  7,  8,  9, 10, 11, 12, 13, 14, 15])"
      ]
     },
     "execution_count": 3,
     "metadata": {},
     "output_type": "execute_result"
    }
   ],
   "source": [
    "arr"
   ]
  },
  {
   "cell_type": "markdown",
   "id": "39c7ac94-d9b6-4903-863b-b32a8062c489",
   "metadata": {},
   "source": [
    "Soma de arrays"
   ]
  },
  {
   "cell_type": "code",
   "execution_count": 4,
   "id": "a0d6f217-36b7-4029-942f-32e6d05d652e",
   "metadata": {},
   "outputs": [
    {
     "data": {
      "text/plain": [
       "array([ 0,  2,  4,  6,  8, 10, 12, 14, 16, 18, 20, 22, 24, 26, 28, 30])"
      ]
     },
     "execution_count": 4,
     "metadata": {},
     "output_type": "execute_result"
    }
   ],
   "source": [
    "arr + arr"
   ]
  },
  {
   "cell_type": "markdown",
   "id": "177186a4-b8dd-477d-b81a-f4a0a5fee829",
   "metadata": {},
   "source": [
    "Subtração de arrays"
   ]
  },
  {
   "cell_type": "code",
   "execution_count": 5,
   "id": "a748fad5-c2ca-47d6-a6ad-6fb541766418",
   "metadata": {},
   "outputs": [
    {
     "data": {
      "text/plain": [
       "array([0, 0, 0, 0, 0, 0, 0, 0, 0, 0, 0, 0, 0, 0, 0, 0])"
      ]
     },
     "execution_count": 5,
     "metadata": {},
     "output_type": "execute_result"
    }
   ],
   "source": [
    "arr - arr"
   ]
  },
  {
   "cell_type": "markdown",
   "id": "16e76aea-3743-4fb8-b0f3-d0c9917139f1",
   "metadata": {},
   "source": [
    "Multiplicação de arrays"
   ]
  },
  {
   "cell_type": "code",
   "execution_count": 6,
   "id": "0c13a62a-60ea-45bc-8b03-8fb3a999e3b3",
   "metadata": {},
   "outputs": [
    {
     "data": {
      "text/plain": [
       "array([  0,   1,   4,   9,  16,  25,  36,  49,  64,  81, 100, 121, 144,\n",
       "       169, 196, 225])"
      ]
     },
     "execution_count": 6,
     "metadata": {},
     "output_type": "execute_result"
    }
   ],
   "source": [
    "arr * arr"
   ]
  },
  {
   "cell_type": "markdown",
   "id": "23abacf9-1f86-4318-a1ad-8ef4b35d9b2b",
   "metadata": {},
   "source": [
    "Econtrou um erro em uma divisão mas mesmo assim executou ela por ser numpy, python normalmente não executaria a função"
   ]
  },
  {
   "cell_type": "markdown",
   "id": "e7bddcff-9d2b-4d86-a9d8-86a1040dd494",
   "metadata": {},
   "source": [
    "Divisão de array"
   ]
  },
  {
   "cell_type": "code",
   "execution_count": 7,
   "id": "996234aa-83d6-4f53-b4c7-489afc089a92",
   "metadata": {},
   "outputs": [
    {
     "name": "stderr",
     "output_type": "stream",
     "text": [
      "C:\\Users\\User\\AppData\\Local\\Temp\\ipykernel_7908\\3001117470.py:1: RuntimeWarning: invalid value encountered in divide\n",
      "  arr / arr\n"
     ]
    },
    {
     "data": {
      "text/plain": [
       "array([nan,  1.,  1.,  1.,  1.,  1.,  1.,  1.,  1.,  1.,  1.,  1.,  1.,\n",
       "        1.,  1.,  1.])"
      ]
     },
     "execution_count": 7,
     "metadata": {},
     "output_type": "execute_result"
    }
   ],
   "source": [
    "arr / arr"
   ]
  },
  {
   "cell_type": "markdown",
   "id": "4c5e65a5-f9f4-44b7-8540-95f0e83b0dc5",
   "metadata": {},
   "source": [
    "Exemplo de python que não executa"
   ]
  },
  {
   "cell_type": "code",
   "execution_count": 8,
   "id": "3303009d-fbb3-4ae5-9199-621e8c209078",
   "metadata": {},
   "outputs": [
    {
     "ename": "ZeroDivisionError",
     "evalue": "division by zero",
     "output_type": "error",
     "traceback": [
      "\u001b[1;31m---------------------------------------------------------------------------\u001b[0m",
      "\u001b[1;31mZeroDivisionError\u001b[0m                         Traceback (most recent call last)",
      "Cell \u001b[1;32mIn[8], line 1\u001b[0m\n\u001b[1;32m----> 1\u001b[0m \u001b[38;5;241;43m1\u001b[39;49m\u001b[38;5;241;43m/\u001b[39;49m\u001b[38;5;241;43m0\u001b[39;49m\n",
      "\u001b[1;31mZeroDivisionError\u001b[0m: division by zero"
     ]
    }
   ],
   "source": [
    "1/0"
   ]
  },
  {
   "cell_type": "markdown",
   "id": "cfb1f7fb-3818-496b-81ce-8c6c6776b0fa",
   "metadata": {},
   "source": [
    "exemplo de numpy que mesmo errado executa a operação"
   ]
  },
  {
   "cell_type": "code",
   "execution_count": 9,
   "id": "1d90c02e-7024-494d-8b9a-077a38044533",
   "metadata": {},
   "outputs": [
    {
     "name": "stderr",
     "output_type": "stream",
     "text": [
      "C:\\Users\\User\\AppData\\Local\\Temp\\ipykernel_7908\\1528351372.py:1: RuntimeWarning: divide by zero encountered in divide\n",
      "  1 / arr\n"
     ]
    },
    {
     "data": {
      "text/plain": [
       "array([       inf, 1.        , 0.5       , 0.33333333, 0.25      ,\n",
       "       0.2       , 0.16666667, 0.14285714, 0.125     , 0.11111111,\n",
       "       0.1       , 0.09090909, 0.08333333, 0.07692308, 0.07142857,\n",
       "       0.06666667])"
      ]
     },
     "execution_count": 9,
     "metadata": {},
     "output_type": "execute_result"
    }
   ],
   "source": [
    "1 / arr"
   ]
  },
  {
   "cell_type": "markdown",
   "id": "28033182-8d4a-4682-a0c0-2bd883cf65c3",
   "metadata": {},
   "source": [
    "Elevado a 2"
   ]
  },
  {
   "cell_type": "code",
   "execution_count": 10,
   "id": "998619d7-785f-4945-b0aa-a285288ee702",
   "metadata": {},
   "outputs": [
    {
     "data": {
      "text/plain": [
       "array([  0,   1,   4,   9,  16,  25,  36,  49,  64,  81, 100, 121, 144,\n",
       "       169, 196, 225])"
      ]
     },
     "execution_count": 10,
     "metadata": {},
     "output_type": "execute_result"
    }
   ],
   "source": [
    "arr ** 2 "
   ]
  },
  {
   "cell_type": "markdown",
   "id": "09f29da9-6716-4291-8ad9-97cd35e76cc4",
   "metadata": {},
   "source": [
    "soma mais 100 a todos os valores"
   ]
  },
  {
   "cell_type": "code",
   "execution_count": 11,
   "id": "9e8a5b14-fb60-4630-ba00-f76917f149e3",
   "metadata": {},
   "outputs": [
    {
     "data": {
      "text/plain": [
       "array([100, 101, 102, 103, 104, 105, 106, 107, 108, 109, 110, 111, 112,\n",
       "       113, 114, 115])"
      ]
     },
     "execution_count": 11,
     "metadata": {},
     "output_type": "execute_result"
    }
   ],
   "source": [
    "arr + 100"
   ]
  },
  {
   "cell_type": "markdown",
   "id": "5445b5b9-f7c2-4a77-aa2d-8d20e45bc7de",
   "metadata": {},
   "source": [
    "subtrai 100 de todos os valores"
   ]
  },
  {
   "cell_type": "code",
   "execution_count": 12,
   "id": "24e9e6a8-a730-449b-8d2e-64441f21cf9f",
   "metadata": {},
   "outputs": [
    {
     "data": {
      "text/plain": [
       "array([-100,  -99,  -98,  -97,  -96,  -95,  -94,  -93,  -92,  -91,  -90,\n",
       "        -89,  -88,  -87,  -86,  -85])"
      ]
     },
     "execution_count": 12,
     "metadata": {},
     "output_type": "execute_result"
    }
   ],
   "source": [
    "arr - 100"
   ]
  },
  {
   "cell_type": "markdown",
   "id": "2cfbf6b6-cb26-4ad1-bfc1-19ca9af38e96",
   "metadata": {},
   "source": [
    "multiplica 100 em todos os valores"
   ]
  },
  {
   "cell_type": "code",
   "execution_count": 13,
   "id": "cf26479c-a1e3-44e0-9c0d-244d064c3604",
   "metadata": {},
   "outputs": [
    {
     "data": {
      "text/plain": [
       "array([   0,  100,  200,  300,  400,  500,  600,  700,  800,  900, 1000,\n",
       "       1100, 1200, 1300, 1400, 1500])"
      ]
     },
     "execution_count": 13,
     "metadata": {},
     "output_type": "execute_result"
    }
   ],
   "source": [
    "arr * 100"
   ]
  },
  {
   "cell_type": "markdown",
   "id": "6ea26251-0e65-463c-a4f5-777cba5d2b60",
   "metadata": {},
   "source": [
    "funções numpy"
   ]
  },
  {
   "cell_type": "markdown",
   "id": "3687bb46-9a29-4e6c-a951-32cc66bf319b",
   "metadata": {},
   "source": [
    "Aplica raiz quadradra a todos os valores"
   ]
  },
  {
   "cell_type": "code",
   "execution_count": 14,
   "id": "2c849bcc-d460-4594-97b5-66fd6f7b69a9",
   "metadata": {},
   "outputs": [
    {
     "data": {
      "text/plain": [
       "array([0.        , 1.        , 1.41421356, 1.73205081, 2.        ,\n",
       "       2.23606798, 2.44948974, 2.64575131, 2.82842712, 3.        ,\n",
       "       3.16227766, 3.31662479, 3.46410162, 3.60555128, 3.74165739,\n",
       "       3.87298335])"
      ]
     },
     "execution_count": 14,
     "metadata": {},
     "output_type": "execute_result"
    }
   ],
   "source": [
    "np.sqrt(arr)"
   ]
  },
  {
   "cell_type": "markdown",
   "id": "2c7e6d0c-3c87-425c-ace3-5f37900e1b49",
   "metadata": {},
   "source": [
    "Exponencial a todos os valores"
   ]
  },
  {
   "cell_type": "code",
   "execution_count": 15,
   "id": "b10a6707-18a1-41d0-8d73-093c5ba9af8c",
   "metadata": {},
   "outputs": [
    {
     "data": {
      "text/plain": [
       "array([1.00000000e+00, 2.71828183e+00, 7.38905610e+00, 2.00855369e+01,\n",
       "       5.45981500e+01, 1.48413159e+02, 4.03428793e+02, 1.09663316e+03,\n",
       "       2.98095799e+03, 8.10308393e+03, 2.20264658e+04, 5.98741417e+04,\n",
       "       1.62754791e+05, 4.42413392e+05, 1.20260428e+06, 3.26901737e+06])"
      ]
     },
     "execution_count": 15,
     "metadata": {},
     "output_type": "execute_result"
    }
   ],
   "source": [
    "np.exp(arr)"
   ]
  },
  {
   "cell_type": "markdown",
   "id": "498416e3-e8d5-4572-b3ec-f48a2f783508",
   "metadata": {},
   "source": [
    "Media"
   ]
  },
  {
   "cell_type": "code",
   "execution_count": 16,
   "id": "a6d3d087-9aef-4976-b49a-b5043acb07c9",
   "metadata": {},
   "outputs": [
    {
     "data": {
      "text/plain": [
       "7.5"
      ]
     },
     "execution_count": 16,
     "metadata": {},
     "output_type": "execute_result"
    }
   ],
   "source": [
    "np.mean(arr)"
   ]
  },
  {
   "cell_type": "markdown",
   "id": "2e399903-3498-4f68-87b7-5dfa2a03e2a3",
   "metadata": {},
   "source": [
    "Desvio padrão"
   ]
  },
  {
   "cell_type": "code",
   "execution_count": 17,
   "id": "a008fab4-c0b7-4d33-a3a9-9f668e43dc71",
   "metadata": {},
   "outputs": [
    {
     "data": {
      "text/plain": [
       "4.6097722286464435"
      ]
     },
     "execution_count": 17,
     "metadata": {},
     "output_type": "execute_result"
    }
   ],
   "source": [
    "np.std(arr)"
   ]
  },
  {
   "cell_type": "markdown",
   "id": "0c4402ae-103e-479b-b3ca-e50177245b7a",
   "metadata": {},
   "source": [
    "seno"
   ]
  },
  {
   "cell_type": "code",
   "execution_count": 18,
   "id": "3c833c64-401c-4bbe-8f42-ea1e634e9089",
   "metadata": {},
   "outputs": [
    {
     "data": {
      "text/plain": [
       "array([ 0.        ,  0.84147098,  0.90929743,  0.14112001, -0.7568025 ,\n",
       "       -0.95892427, -0.2794155 ,  0.6569866 ,  0.98935825,  0.41211849,\n",
       "       -0.54402111, -0.99999021, -0.53657292,  0.42016704,  0.99060736,\n",
       "        0.65028784])"
      ]
     },
     "execution_count": 18,
     "metadata": {},
     "output_type": "execute_result"
    }
   ],
   "source": [
    "np.sin(arr)"
   ]
  },
  {
   "cell_type": "markdown",
   "id": "45b80353-57ea-41b1-9cd6-11eefbe3b7ba",
   "metadata": {},
   "source": [
    "maior e menor valor de duas fomas diferentes"
   ]
  },
  {
   "cell_type": "code",
   "execution_count": 19,
   "id": "3117f94d-a41b-482f-8f22-a2c5aa28b132",
   "metadata": {},
   "outputs": [
    {
     "data": {
      "text/plain": [
       "15"
      ]
     },
     "execution_count": 19,
     "metadata": {},
     "output_type": "execute_result"
    }
   ],
   "source": [
    "np.max(arr)"
   ]
  },
  {
   "cell_type": "code",
   "execution_count": 20,
   "id": "8292679c-02ee-49d1-b36e-2da69aa752ab",
   "metadata": {},
   "outputs": [
    {
     "data": {
      "text/plain": [
       "0"
      ]
     },
     "execution_count": 20,
     "metadata": {},
     "output_type": "execute_result"
    }
   ],
   "source": [
    "np.min(arr)"
   ]
  },
  {
   "cell_type": "code",
   "execution_count": 21,
   "id": "1604be02-7ef2-4fbd-a92f-89af1ab5c635",
   "metadata": {},
   "outputs": [
    {
     "data": {
      "text/plain": [
       "15"
      ]
     },
     "execution_count": 21,
     "metadata": {},
     "output_type": "execute_result"
    }
   ],
   "source": [
    "arr.max()"
   ]
  },
  {
   "cell_type": "code",
   "execution_count": 22,
   "id": "53988e1f-c71b-423e-abfd-f2e3abffb982",
   "metadata": {},
   "outputs": [
    {
     "data": {
      "text/plain": [
       "0"
      ]
     },
     "execution_count": 22,
     "metadata": {},
     "output_type": "execute_result"
    }
   ],
   "source": [
    "arr.min()"
   ]
  }
 ],
 "metadata": {
  "kernelspec": {
   "display_name": "Python 3 (ipykernel)",
   "language": "python",
   "name": "python3"
  },
  "language_info": {
   "codemirror_mode": {
    "name": "ipython",
    "version": 3
   },
   "file_extension": ".py",
   "mimetype": "text/x-python",
   "name": "python",
   "nbconvert_exporter": "python",
   "pygments_lexer": "ipython3",
   "version": "3.12.1"
  }
 },
 "nbformat": 4,
 "nbformat_minor": 5
}
