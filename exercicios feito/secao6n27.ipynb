{
 "cells": [
  {
   "cell_type": "markdown",
   "id": "c7a8e940-7db7-4cf9-81a6-ca65b4e52cbd",
   "metadata": {},
   "source": [
    "Series e seus conceitos basicos, Series é basicamente um dicionario"
   ]
  },
  {
   "cell_type": "markdown",
   "id": "74d9918b-ff53-4119-bcee-ea6ee28a75ff",
   "metadata": {},
   "source": [
    "importando bibliteca Numpy e a biblioteca Pandas : \"np\" é padrão para Numpy e \"pd\" é padrão para o Pandas"
   ]
  },
  {
   "cell_type": "code",
   "execution_count": 1,
   "id": "088ea634-5678-4f47-abca-b43d694c80eb",
   "metadata": {},
   "outputs": [],
   "source": [
    "import numpy as np\n",
    "import pandas as pd"
   ]
  },
  {
   "cell_type": "markdown",
   "id": "cec5f311-8177-4939-94d8-942af295403c",
   "metadata": {},
   "source": [
    "Lista com letras"
   ]
  },
  {
   "cell_type": "code",
   "execution_count": 2,
   "id": "e6dea65c-6e46-43b5-8cfd-ea432c429b1e",
   "metadata": {},
   "outputs": [],
   "source": [
    "labels = ['a', 'b', 'c',]"
   ]
  },
  {
   "cell_type": "markdown",
   "id": "acbd1308-273d-4e0b-821c-64b88fe06cb8",
   "metadata": {},
   "source": [
    "Lista com numeros e um dicionario"
   ]
  },
  {
   "cell_type": "code",
   "execution_count": 6,
   "id": "6a144297-a8ea-40ce-8b08-b68e829987bb",
   "metadata": {},
   "outputs": [],
   "source": [
    "minha_lista = [10, 20, 30]\n",
    "arr = np.array([10, 20, 30])\n",
    "d = {'a':10, 'b':20, 'c':30}"
   ]
  },
  {
   "cell_type": "markdown",
   "id": "49931d68-3601-4367-995e-02c674a38762",
   "metadata": {},
   "source": [
    "Usando Series os mais simples sendo 'data' e 'index', Series é muito parecido com dicionario "
   ]
  },
  {
   "cell_type": "code",
   "execution_count": 7,
   "id": "d94e7a88-839e-4270-af42-8385892f6668",
   "metadata": {},
   "outputs": [
    {
     "data": {
      "text/plain": [
       "a    10\n",
       "b    20\n",
       "c    30\n",
       "dtype: int64"
      ]
     },
     "execution_count": 7,
     "metadata": {},
     "output_type": "execute_result"
    }
   ],
   "source": [
    "pd.Series(data=minha_lista, index=labels)"
   ]
  },
  {
   "cell_type": "code",
   "execution_count": 8,
   "id": "dd757474-acd2-40ec-b234-8e2b3f42fcb4",
   "metadata": {},
   "outputs": [],
   "source": [
    "series = pd.Series(data=minha_lista, index=labels)"
   ]
  },
  {
   "cell_type": "code",
   "execution_count": 9,
   "id": "7f6085ee-801b-4b88-8fc2-4e181dec6c85",
   "metadata": {},
   "outputs": [
    {
     "data": {
      "text/plain": [
       "20"
      ]
     },
     "execution_count": 9,
     "metadata": {},
     "output_type": "execute_result"
    }
   ],
   "source": [
    "series['b']"
   ]
  },
  {
   "cell_type": "markdown",
   "id": "30da4c67-2b9a-48df-84fc-e4b670fe2dfa",
   "metadata": {},
   "source": [
    "Só passando os parametros"
   ]
  },
  {
   "cell_type": "code",
   "execution_count": 11,
   "id": "12795db8-866f-4893-8e7c-4df4a1ed3258",
   "metadata": {},
   "outputs": [
    {
     "data": {
      "text/plain": [
       "10    a\n",
       "20    b\n",
       "30    c\n",
       "dtype: object"
      ]
     },
     "execution_count": 11,
     "metadata": {},
     "output_type": "execute_result"
    }
   ],
   "source": [
    "pd.Series(labels, minha_lista)"
   ]
  },
  {
   "cell_type": "markdown",
   "id": "2ef45590-7660-4322-b208-6d86366597e6",
   "metadata": {},
   "source": [
    "Iversão dos parametros"
   ]
  },
  {
   "cell_type": "code",
   "execution_count": 12,
   "id": "9e703934-499e-4dd3-a3cc-4c4cca75b565",
   "metadata": {},
   "outputs": [
    {
     "data": {
      "text/plain": [
       "a    10\n",
       "b    20\n",
       "c    30\n",
       "dtype: int64"
      ]
     },
     "execution_count": 12,
     "metadata": {},
     "output_type": "execute_result"
    }
   ],
   "source": [
    "pd.Series(minha_lista, labels)"
   ]
  },
  {
   "cell_type": "markdown",
   "id": "55aa1d5e-7e35-4a50-b48e-14aee07ca844",
   "metadata": {},
   "source": [
    "posso tambem usar 'arr' do Numpy"
   ]
  },
  {
   "cell_type": "code",
   "execution_count": 13,
   "id": "e092d6af-bd15-43b5-bbb5-e1ed0fb9a7c3",
   "metadata": {},
   "outputs": [
    {
     "data": {
      "text/plain": [
       "a    10\n",
       "b    20\n",
       "c    30\n",
       "dtype: int32"
      ]
     },
     "execution_count": 13,
     "metadata": {},
     "output_type": "execute_result"
    }
   ],
   "source": [
    "pd.Series(arr, labels)"
   ]
  },
  {
   "cell_type": "markdown",
   "id": "209d1836-6547-4d2c-a91d-fc376cf789c9",
   "metadata": {},
   "source": [
    "Consegui associar metodos padrões do Python"
   ]
  },
  {
   "cell_type": "code",
   "execution_count": 16,
   "id": "049f4d3a-dc52-414d-9bf6-7a2da4a24303",
   "metadata": {},
   "outputs": [
    {
     "data": {
      "text/plain": [
       "0      <built-in function sum>\n",
       "1    <built-in function print>\n",
       "2      <built-in function len>\n",
       "dtype: object"
      ]
     },
     "execution_count": 16,
     "metadata": {},
     "output_type": "execute_result"
    }
   ],
   "source": [
    "pd.Series([sum, print, len])"
   ]
  },
  {
   "cell_type": "markdown",
   "id": "ee9e1a1f-ff0d-4527-8dcf-55360b2f582d",
   "metadata": {},
   "source": [
    "Lista de paises "
   ]
  },
  {
   "cell_type": "code",
   "execution_count": 18,
   "id": "5cde0c8b-4844-49e8-9908-1626da614b61",
   "metadata": {},
   "outputs": [],
   "source": [
    "ser1 = pd.Series([1, 2, 3, 4], index=['EUA', 'Alemanha', 'URSS', 'Japão'])"
   ]
  },
  {
   "cell_type": "code",
   "execution_count": 19,
   "id": "fd04f57f-35e4-4a9f-98ea-f924ae5ed22b",
   "metadata": {},
   "outputs": [
    {
     "data": {
      "text/plain": [
       "EUA         1\n",
       "Alemanha    2\n",
       "URSS        3\n",
       "Japão       4\n",
       "dtype: int64"
      ]
     },
     "execution_count": 19,
     "metadata": {},
     "output_type": "execute_result"
    }
   ],
   "source": [
    "ser1"
   ]
  },
  {
   "cell_type": "code",
   "execution_count": 23,
   "id": "8cdb1b48-64b1-49bd-aa30-8eb1bf5916b9",
   "metadata": {},
   "outputs": [],
   "source": [
    "ser2 = pd.Series([1, 2, 3, 4], index=['Alemanha', 'EUA', 'Italia', 'Japão'])"
   ]
  },
  {
   "cell_type": "code",
   "execution_count": 24,
   "id": "e452ac90-bea7-4458-8a8f-29aa0217549e",
   "metadata": {},
   "outputs": [
    {
     "data": {
      "text/plain": [
       "Alemanha    1\n",
       "EUA         2\n",
       "Italia      3\n",
       "Japão       4\n",
       "dtype: int64"
      ]
     },
     "execution_count": 24,
     "metadata": {},
     "output_type": "execute_result"
    }
   ],
   "source": [
    "ser2"
   ]
  },
  {
   "cell_type": "markdown",
   "id": "78099947-c1e4-4813-bcbb-e5eea2993851",
   "metadata": {},
   "source": [
    "Operação entre Series"
   ]
  },
  {
   "cell_type": "code",
   "execution_count": 25,
   "id": "4649f736-3c27-4290-99ba-7446c14d5ac7",
   "metadata": {},
   "outputs": [
    {
     "data": {
      "text/plain": [
       "Alemanha    3.0\n",
       "EUA         3.0\n",
       "Italia      NaN\n",
       "Japão       8.0\n",
       "URSS        NaN\n",
       "dtype: float64"
      ]
     },
     "execution_count": 25,
     "metadata": {},
     "output_type": "execute_result"
    }
   ],
   "source": [
    "ser1 + ser2"
   ]
  },
  {
   "cell_type": "markdown",
   "id": "149b801c-e9d6-48cc-ba61-5356341a80b1",
   "metadata": {},
   "source": [
    "Somando elementos com base no indice, Fazer operações com base no indice "
   ]
  }
 ],
 "metadata": {
  "kernelspec": {
   "display_name": "Python 3 (ipykernel)",
   "language": "python",
   "name": "python3"
  },
  "language_info": {
   "codemirror_mode": {
    "name": "ipython",
    "version": 3
   },
   "file_extension": ".py",
   "mimetype": "text/x-python",
   "name": "python",
   "nbconvert_exporter": "python",
   "pygments_lexer": "ipython3",
   "version": "3.12.1"
  }
 },
 "nbformat": 4,
 "nbformat_minor": 5
}
