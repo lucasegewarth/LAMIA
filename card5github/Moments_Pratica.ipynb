{
 "cells": [
  {
   "cell_type": "markdown",
   "id": "6b29ff7c-5fa8-4fe1-a80d-2d5d8273b5c8",
   "metadata": {},
   "source": [
    "Este arquivo é destinado a textes, demontração e praticas referentes as aulas"
   ]
  },
  {
   "cell_type": "code",
   "execution_count": 14,
   "id": "99adb39f-b634-4ae2-b686-e5e5176f2531",
   "metadata": {},
   "outputs": [
    {
     "data": {
      "image/png": "[encoded data removed]",
      "text/plain": [
       "<Figure size 640x480 with 1 Axes>"
      ]
     },
     "metadata": {},
     "output_type": "display_data"
    }
   ],
   "source": [
    "%matplotlib inline\n",
    "import numpy as np\n",
    "import matplotlib.pyplot as plt\n",
    "\n",
    "pro = np.random.normal(1, 1.5, 100000) # 1 se refere a média, 1.5 seria o desvio padrão, e 100000 a quantidade de valores\n",
    "\n",
    "plt.hist(pro, 50) # 50 quantidade de barras no hosplot\n",
    "plt.show()"
   ]
  },
  {
   "cell_type": "markdown",
   "id": "6be6576b-7fd6-4c02-a3a7-48eadeb5bdfc",
   "metadata": {},
   "source": [
    "Primeiro Momento - Média\n",
    "\n",
    "Representa a tendência central da distribuição."
   ]
  },
  {
   "cell_type": "code",
   "execution_count": 12,
   "id": "6f84658e-b917-4872-b815-2f4045c2a0fd",
   "metadata": {},
   "outputs": [
    {
     "data": {
      "text/plain": [
       "1.004842953131352"
      ]
     },
     "execution_count": 12,
     "metadata": {},
     "output_type": "execute_result"
    }
   ],
   "source": [
    "np.mean(pro) #O 1º momento (média) diz onde os dados se concentram"
   ]
  },
  {
   "cell_type": "markdown",
   "id": "a9105b82-9fc3-42fc-9de0-eabf529e6423",
   "metadata": {},
   "source": [
    "Segundo Momento - Variância \n",
    "\n",
    "Mede a dispersão dos dados em torno da média.\n",
    "\n",
    "Quanto maior a variância, mais espalhados estão os dados."
   ]
  },
  {
   "cell_type": "code",
   "execution_count": 13,
   "id": "105aaffa-9f6d-4bec-b484-ea230ed7e0eb",
   "metadata": {},
   "outputs": [
    {
     "data": {
      "text/plain": [
       "2.251950782348464"
      ]
     },
     "execution_count": 13,
     "metadata": {},
     "output_type": "execute_result"
    }
   ],
   "source": [
    "np.var(pro) #O 2º momento (variância) diz o quão espalhados os dados estão"
   ]
  },
  {
   "cell_type": "markdown",
   "id": "2f53fc28-9900-4533-85ca-d16f6a840c89",
   "metadata": {},
   "source": [
    "Terceiro Momento - Assimetria \n",
    "\n",
    "Mede o grau de inclinação da distribuição.\n",
    "\n",
    "valor >0, a distribuição tem cauda mais longa à direita (assimétrica positiva).\n",
    "\n",
    "Valor <0, a cauda é mais longa à esquerda (assimétrica negativa)."
   ]
  },
  {
   "cell_type": "code",
   "execution_count": 9,
   "id": "67d0f492-7a67-4c1a-86f9-724495416cfa",
   "metadata": {},
   "outputs": [
    {
     "data": {
      "text/plain": [
       "-0.004232181211590108"
      ]
     },
     "execution_count": 9,
     "metadata": {},
     "output_type": "execute_result"
    }
   ],
   "source": [
    "import scipy.stats as sp # para usar \"skew\"\n",
    "sp.skew(pro) #O 3º momento (assimetria) diz se a distribuição tem cauda mais longa para um dos lados"
   ]
  },
  {
   "cell_type": "markdown",
   "id": "7e19467a-73db-4481-94b0-0a379223b1b6",
   "metadata": {},
   "source": [
    "Quarto Momento - Curtose \n",
    "\n",
    "Mede o achatamento da distribuição.\n",
    "\n",
    "Leptocúrtica -> valor >0: tem caudas longas (pico mais alto).\n",
    "\n",
    "Mesocúrtica -> valor =0): distribuição normal.\n",
    "\n",
    "Platicúrtica -> valor <0): tem caudas curtas (pico achatado)."
   ]
  },
  {
   "cell_type": "code",
   "execution_count": 11,
   "id": "e5283033-6fe5-4b4f-896a-0c0d18d4a074",
   "metadata": {},
   "outputs": [
    {
     "data": {
      "text/plain": [
       "0.01657918417071169"
      ]
     },
     "execution_count": 11,
     "metadata": {},
     "output_type": "execute_result"
    }
   ],
   "source": [
    "sp.kurtosis(pro) #O 4º momento (curtose) diz se a distribuição tem um pico alto ou achatado"
   ]
  }
 ],
 "metadata": {
  "kernelspec": {
   "display_name": "Python 3 (ipykernel)",
   "language": "python",
   "name": "python3"
  },
  "language_info": {
   "codemirror_mode": {
    "name": "ipython",
    "version": 3
   },
   "file_extension": ".py",
   "mimetype": "text/x-python",
   "name": "python",
   "nbconvert_exporter": "python",
   "pygments_lexer": "ipython3",
   "version": "3.11.7"
  }
 },
 "nbformat": 4,
 "nbformat_minor": 5
}
